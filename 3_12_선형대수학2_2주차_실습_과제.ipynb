{
  "nbformat": 4,
  "nbformat_minor": 0,
  "metadata": {
    "colab": {
      "provenance": [],
      "authorship_tag": "ABX9TyMd4ugRd9bZH4DPRFkOyQZK",
      "include_colab_link": true
    },
    "kernelspec": {
      "name": "python3",
      "display_name": "Python 3"
    },
    "language_info": {
      "name": "python"
    }
  },
  "cells": [
    {
      "cell_type": "markdown",
      "metadata": {
        "id": "view-in-github",
        "colab_type": "text"
      },
      "source": [
        "<a href=\"https://colab.research.google.com/github/sooloin/LinearAlgebra2_assignment/blob/main/3_12_%EC%84%A0%ED%98%95%EB%8C%80%EC%88%98%ED%95%992_2%EC%A3%BC%EC%B0%A8_%EC%8B%A4%EC%8A%B5_%EA%B3%BC%EC%A0%9C.ipynb\" target=\"_parent\"><img src=\"https://colab.research.google.com/assets/colab-badge.svg\" alt=\"Open In Colab\"/></a>"
      ]
    },
    {
      "cell_type": "markdown",
      "source": [
        "**1. 파이썬 기초**"
      ],
      "metadata": {
        "id": "kQQCcBEdatLN"
      }
    },
    {
      "cell_type": "code",
      "execution_count": null,
      "metadata": {
        "colab": {
          "base_uri": "https://localhost:8080/"
        },
        "id": "Cgvi1qOxUDdY",
        "outputId": "be65eba7-fa05-4149-9cea-4acb5ccd3b8a"
      },
      "outputs": [
        {
          "output_type": "stream",
          "name": "stdout",
          "text": [
            "Hello, world\n",
            "정수 : 3, 03, 003, 0003, 00003\n",
            "실수 : 256, 256.1, 256.12\n",
            "문자열 : [Hello, world]\n"
          ]
        }
      ],
      "source": [
        "#실습1\n",
        "print (\"Hello, world\")\n",
        "\n",
        "#integer\n",
        "x=3\n",
        "print (\"정수 : %01d, %02d, %03d, %04d, %05d\" % (x, x, x, x, x))\n",
        "\n",
        "#float\n",
        "x=256.123\n",
        "print (\"실수 : %.0f, %.1f, %.2f\" % (x, x, x))\n",
        "\n",
        "#string\n",
        "x= \"Hello, world\"\n",
        "print (\"문자열 : [%s]\" % (x))\n"
      ]
    },
    {
      "cell_type": "code",
      "source": [
        "#실습2\n",
        "\n",
        "contents = [\"Regression\", \"Classification\", \"SYM\", \"Clustering\", \"Dimension reduction\",\n",
        "            \"NN\", \"CNN\", \"AE\", \"GAN\", \"RNN\"]\n",
        "\n",
        "for con in contents:\n",
        "  if con in [\"Regression\", \"Classification\", \"SYM\", \"Clustering\", \"Dimension reduction\"]:\n",
        "    print(\"%s 은(는) 기계학습 내용입니다.\" %con)\n",
        "  elif con in [\"CNN\"]:\n",
        "    print(\"%s 은(는) convolutional neural network 입니다.\" % con)\n",
        "  else:\n",
        "    print(\"%s 은(는) 심층학습 내용입니다.\"%con)"
      ],
      "metadata": {
        "colab": {
          "base_uri": "https://localhost:8080/"
        },
        "id": "_9MJM5AKVHpM",
        "outputId": "273fda22-2f7f-480c-a1b3-f7f72cd1552d"
      },
      "execution_count": null,
      "outputs": [
        {
          "output_type": "stream",
          "name": "stdout",
          "text": [
            "Regression 은(는) 기계학습 내용입니다.\n",
            "Classification 은(는) 기계학습 내용입니다.\n",
            "SYM 은(는) 기계학습 내용입니다.\n",
            "Clustering 은(는) 기계학습 내용입니다.\n",
            "Dimension reduction 은(는) 기계학습 내용입니다.\n",
            "NN 은(는) 심층학습 내용입니다.\n",
            "CNN 은(는) convolutional neural network 입니다.\n",
            "AE 은(는) 심층학습 내용입니다.\n",
            "GAN 은(는) 심층학습 내용입니다.\n",
            "RNN 은(는) 심층학습 내용입니다.\n"
          ]
        }
      ]
    },
    {
      "cell_type": "code",
      "source": [
        "#실습3\n",
        "\n",
        "for (i, con) in enumerate(contents):\n",
        "  print(\"[%d/%d]: %s\" % (i, len(contents), con))"
      ],
      "metadata": {
        "colab": {
          "base_uri": "https://localhost:8080/"
        },
        "id": "W7bM8MsRYKS_",
        "outputId": "eac67a60-388a-41b1-b245-b70327e63d1e"
      },
      "execution_count": null,
      "outputs": [
        {
          "output_type": "stream",
          "name": "stdout",
          "text": [
            "[0/10]: Regression\n",
            "[1/10]: Classification\n",
            "[2/10]: SYM\n",
            "[3/10]: Clustering\n",
            "[4/10]: Dimension reduction\n",
            "[5/10]: NN\n",
            "[6/10]: CNN\n",
            "[7/10]: AE\n",
            "[8/10]: GAN\n",
            "[9/10]: RNN\n"
          ]
        }
      ]
    },
    {
      "cell_type": "code",
      "source": [
        "#실습4\n",
        "\n",
        "def sum(a,b):\n",
        "  return a+b\n",
        "\n",
        "x= 10.0\n",
        "y = 20.0\n",
        "print(\"%.1f + %.1f = %.1f\" %(x, y, sum(x,y)))"
      ],
      "metadata": {
        "colab": {
          "base_uri": "https://localhost:8080/"
        },
        "id": "wqCVnjlKYdm0",
        "outputId": "12bec0ca-7ab8-4783-b3bb-708c0adf4b94"
      },
      "execution_count": null,
      "outputs": [
        {
          "output_type": "stream",
          "name": "stdout",
          "text": [
            "10.0 + 20.0 = 30.0\n"
          ]
        }
      ]
    },
    {
      "cell_type": "code",
      "source": [
        "#실습\n",
        "\n",
        "a=[]\n",
        "b=[1, 2, 3]\n",
        "c=[\"Hello\", \",\", \"world\"]\n",
        "d=[1, 2, 3, \"x\", \"y\", \"z\"]\n",
        "x=[]\n",
        "print(x)\n",
        "\n",
        "x.append('a')\n",
        "print(x)\n",
        "\n",
        "x.append(123)\n",
        "print(x)\n",
        "\n",
        "x.append([\"a\", \"b\"])\n",
        "print(x)"
      ],
      "metadata": {
        "colab": {
          "base_uri": "https://localhost:8080/"
        },
        "id": "awSZK4E3Yt0B",
        "outputId": "4b968544-f330-45b3-eda8-82e965d50dfe"
      },
      "execution_count": null,
      "outputs": [
        {
          "output_type": "stream",
          "name": "stdout",
          "text": [
            "[]\n",
            "['a']\n",
            "['a', 123]\n",
            "['a', 123, ['a', 'b']]\n"
          ]
        }
      ]
    },
    {
      "cell_type": "code",
      "source": [
        "#실습6\n",
        "\n",
        "dic = dict()\n",
        "dic[\"name\"]=\"Daesik\"\n",
        "dic[\"town\"]=\"Yongin city\"\n",
        "dic[\"job\"]=\"Assistant professor\"\n",
        "print(dic)"
      ],
      "metadata": {
        "colab": {
          "base_uri": "https://localhost:8080/"
        },
        "id": "UaoVBOjcZUD2",
        "outputId": "604a39f0-e975-44dd-d6b3-6ede5e7132b9"
      },
      "execution_count": null,
      "outputs": [
        {
          "output_type": "stream",
          "name": "stdout",
          "text": [
            "{'name': 'Daesik', 'town': 'Yongin city', 'job': 'Assistant professor'}\n"
          ]
        }
      ]
    },
    {
      "cell_type": "code",
      "source": [
        "#실습7 -> class 내용 다시 복습하기\n",
        "\n",
        "class Student:\n",
        "  #생성자\n",
        "  def __init__(self, name):\n",
        "    self.name = name\n",
        "  #메서드\n",
        "  def study(self, hard=False):\n",
        "    if hard:\n",
        "      print(\"%s 학생은 열심히 공부합시다.\" %self.name)\n",
        "    else:\n",
        "      print(\"%s 학생은 공부합니다.\" %self.name)\n",
        "\n",
        "s=Student('Daesik')\n",
        "s.study()\n",
        "s.study(hard=True)"
      ],
      "metadata": {
        "colab": {
          "base_uri": "https://localhost:8080/"
        },
        "id": "VtNlJa3eZoNT",
        "outputId": "f974e8b6-2b80-4523-a44a-4005d4285f8f"
      },
      "execution_count": null,
      "outputs": [
        {
          "output_type": "stream",
          "name": "stdout",
          "text": [
            "Daesik 학생은 공부합니다.\n",
            "Daesik 학생은 열심히 공부합시다.\n"
          ]
        }
      ]
    },
    {
      "cell_type": "markdown",
      "source": [
        "\n",
        "\n",
        "---\n",
        "\n"
      ],
      "metadata": {
        "id": "bMW3jIYtakDf"
      }
    },
    {
      "cell_type": "markdown",
      "source": [
        "**2. 벡터, 행렬 연산, 그래프 그리기**"
      ],
      "metadata": {
        "id": "2XssSGS5afy0"
      }
    },
    {
      "cell_type": "code",
      "source": [],
      "metadata": {
        "id": "lWxSz3CNafON"
      },
      "execution_count": null,
      "outputs": []
    }
  ]
}